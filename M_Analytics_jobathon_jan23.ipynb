{
  "nbformat": 4,
  "nbformat_minor": 0,
  "metadata": {
    "colab": {
      "provenance": []
    },
    "kernelspec": {
      "name": "python3",
      "display_name": "Python 3"
    },
    "language_info": {
      "name": "python"
    }
  },
  "cells": [
    {
      "cell_type": "markdown",
      "source": [
        " \"Customer Lifetime Value\" which is a prediction of the net profit attributed to the entire future relationship with a customer. It is widely used in customer relationship management (CRM) and marketing strategy. In this case, the column 'cltv' could be the predicted value of the customer lifetime value for each customer in the dataset. This is an important metric for businesses as it helps them understand how much revenue they can expect to generate from a particular customer over the lifetime of their relationship."
      ],
      "metadata": {
        "id": "cFTF08zCzDlV"
      }
    },
    {
      "cell_type": "markdown",
      "source": [
        "In general, a higher CLTV value is considered better, as it indicates that a customer is likely to generate more revenue for the business over their lifetime. A high CLTV value suggests that the customer is loyal, has a high purchase frequency, and makes high-value purchases. This makes them more valuable to the company and thus a higher CLTV value is better. However, this depends on the business strategy, some companies may prefer to have lower CLTV customers if they want to increase the number of customers. Additionally, it's also important to consider the cost of acquiring a customer and the cost of servicing a customer when determining the profitability of a customer."
      ],
      "metadata": {
        "id": "q7YKaENh0DlM"
      }
    },
    {
      "cell_type": "markdown",
      "source": [
        "when u do eda, know about huge amount of outliers in claim amount (u can find it with boxcox) but there are in large amount so we keep as it is to not getting loss of info from the data."
      ],
      "metadata": {
        "id": "RqNqrR1Fmpw5"
      }
    },
    {
      "cell_type": "markdown",
      "source": [
        "** We can start eda by checking data size, shape, no.of cols, cols type, null values, duplicate rows, outliers, \n",
        "\n",
        "ditribution of data(count, hist, dist plot), ratio of each categorical features (balance or not, just getting sense), unique values of each col(especialy categorical), \n",
        "\n",
        "co-rrelation, multicolinearity,\n",
        "\n",
        "Can I add more EDA steps on this data?"
      ],
      "metadata": {
        "id": "WIaluFH0nWRD"
      }
    },
    {
      "cell_type": "markdown",
      "source": [
        "** Consider answer all of these below with respect to this dataset.\n",
        "(and in general as well, if you wish)\n",
        "\n",
        "Do I need to do standardization/ Normalization (for almost every dataset or it depends)?\n",
        "\n",
        "when to use regularization?\n",
        "\n",
        "when to set hyperparameter? (grid search /random search)\n",
        "\n",
        "when to use cv(k fold)\n",
        "\n",
        "\n",
        "Do we only check outliers for numerical data & not categorical or text?"
      ],
      "metadata": {
        "id": "WcWHvCdrqCH3"
      }
    },
    {
      "cell_type": "code",
      "source": [
        "import pandas as pd\n",
        "import matplotlib.pyplot as plt\n",
        "%matplotlib inline\n",
        "import seaborn as sns\n",
        "\n",
        "from sklearn.model_selection import train_test_split\n",
        "from sklearn.linear_model import LinearRegression\n",
        "from sklearn.metrics import r2_score"
      ],
      "metadata": {
        "id": "-ORvDJ1QUhPb"
      },
      "execution_count": null,
      "outputs": []
    },
    {
      "cell_type": "markdown",
      "source": [
        "coefficients are only informative if the relationship between independent and dependent variables is linear. If the relationship is non-linear, the coefficients might not provide useful information about the relationship between the variables."
      ],
      "metadata": {
        "id": "ziw4QSzXAruf"
      }
    },
    {
      "cell_type": "code",
      "execution_count": null,
      "metadata": {
        "colab": {
          "base_uri": "https://localhost:8080/",
          "height": 73
        },
        "id": "nM7h5tJYSpZa",
        "outputId": "75b0ac76-a49d-4e53-fffe-c04cbf43d6cc"
      },
      "outputs": [
        {
          "output_type": "display_data",
          "data": {
            "text/plain": [
              "<IPython.core.display.HTML object>"
            ],
            "text/html": [
              "\n",
              "     <input type=\"file\" id=\"files-1bac3f0f-ff05-403b-b1dc-389926e8c668\" name=\"files[]\" multiple disabled\n",
              "        style=\"border:none\" />\n",
              "     <output id=\"result-1bac3f0f-ff05-403b-b1dc-389926e8c668\">\n",
              "      Upload widget is only available when the cell has been executed in the\n",
              "      current browser session. Please rerun this cell to enable.\n",
              "      </output>\n",
              "      <script>// Copyright 2017 Google LLC\n",
              "//\n",
              "// Licensed under the Apache License, Version 2.0 (the \"License\");\n",
              "// you may not use this file except in compliance with the License.\n",
              "// You may obtain a copy of the License at\n",
              "//\n",
              "//      http://www.apache.org/licenses/LICENSE-2.0\n",
              "//\n",
              "// Unless required by applicable law or agreed to in writing, software\n",
              "// distributed under the License is distributed on an \"AS IS\" BASIS,\n",
              "// WITHOUT WARRANTIES OR CONDITIONS OF ANY KIND, either express or implied.\n",
              "// See the License for the specific language governing permissions and\n",
              "// limitations under the License.\n",
              "\n",
              "/**\n",
              " * @fileoverview Helpers for google.colab Python module.\n",
              " */\n",
              "(function(scope) {\n",
              "function span(text, styleAttributes = {}) {\n",
              "  const element = document.createElement('span');\n",
              "  element.textContent = text;\n",
              "  for (const key of Object.keys(styleAttributes)) {\n",
              "    element.style[key] = styleAttributes[key];\n",
              "  }\n",
              "  return element;\n",
              "}\n",
              "\n",
              "// Max number of bytes which will be uploaded at a time.\n",
              "const MAX_PAYLOAD_SIZE = 100 * 1024;\n",
              "\n",
              "function _uploadFiles(inputId, outputId) {\n",
              "  const steps = uploadFilesStep(inputId, outputId);\n",
              "  const outputElement = document.getElementById(outputId);\n",
              "  // Cache steps on the outputElement to make it available for the next call\n",
              "  // to uploadFilesContinue from Python.\n",
              "  outputElement.steps = steps;\n",
              "\n",
              "  return _uploadFilesContinue(outputId);\n",
              "}\n",
              "\n",
              "// This is roughly an async generator (not supported in the browser yet),\n",
              "// where there are multiple asynchronous steps and the Python side is going\n",
              "// to poll for completion of each step.\n",
              "// This uses a Promise to block the python side on completion of each step,\n",
              "// then passes the result of the previous step as the input to the next step.\n",
              "function _uploadFilesContinue(outputId) {\n",
              "  const outputElement = document.getElementById(outputId);\n",
              "  const steps = outputElement.steps;\n",
              "\n",
              "  const next = steps.next(outputElement.lastPromiseValue);\n",
              "  return Promise.resolve(next.value.promise).then((value) => {\n",
              "    // Cache the last promise value to make it available to the next\n",
              "    // step of the generator.\n",
              "    outputElement.lastPromiseValue = value;\n",
              "    return next.value.response;\n",
              "  });\n",
              "}\n",
              "\n",
              "/**\n",
              " * Generator function which is called between each async step of the upload\n",
              " * process.\n",
              " * @param {string} inputId Element ID of the input file picker element.\n",
              " * @param {string} outputId Element ID of the output display.\n",
              " * @return {!Iterable<!Object>} Iterable of next steps.\n",
              " */\n",
              "function* uploadFilesStep(inputId, outputId) {\n",
              "  const inputElement = document.getElementById(inputId);\n",
              "  inputElement.disabled = false;\n",
              "\n",
              "  const outputElement = document.getElementById(outputId);\n",
              "  outputElement.innerHTML = '';\n",
              "\n",
              "  const pickedPromise = new Promise((resolve) => {\n",
              "    inputElement.addEventListener('change', (e) => {\n",
              "      resolve(e.target.files);\n",
              "    });\n",
              "  });\n",
              "\n",
              "  const cancel = document.createElement('button');\n",
              "  inputElement.parentElement.appendChild(cancel);\n",
              "  cancel.textContent = 'Cancel upload';\n",
              "  const cancelPromise = new Promise((resolve) => {\n",
              "    cancel.onclick = () => {\n",
              "      resolve(null);\n",
              "    };\n",
              "  });\n",
              "\n",
              "  // Wait for the user to pick the files.\n",
              "  const files = yield {\n",
              "    promise: Promise.race([pickedPromise, cancelPromise]),\n",
              "    response: {\n",
              "      action: 'starting',\n",
              "    }\n",
              "  };\n",
              "\n",
              "  cancel.remove();\n",
              "\n",
              "  // Disable the input element since further picks are not allowed.\n",
              "  inputElement.disabled = true;\n",
              "\n",
              "  if (!files) {\n",
              "    return {\n",
              "      response: {\n",
              "        action: 'complete',\n",
              "      }\n",
              "    };\n",
              "  }\n",
              "\n",
              "  for (const file of files) {\n",
              "    const li = document.createElement('li');\n",
              "    li.append(span(file.name, {fontWeight: 'bold'}));\n",
              "    li.append(span(\n",
              "        `(${file.type || 'n/a'}) - ${file.size} bytes, ` +\n",
              "        `last modified: ${\n",
              "            file.lastModifiedDate ? file.lastModifiedDate.toLocaleDateString() :\n",
              "                                    'n/a'} - `));\n",
              "    const percent = span('0% done');\n",
              "    li.appendChild(percent);\n",
              "\n",
              "    outputElement.appendChild(li);\n",
              "\n",
              "    const fileDataPromise = new Promise((resolve) => {\n",
              "      const reader = new FileReader();\n",
              "      reader.onload = (e) => {\n",
              "        resolve(e.target.result);\n",
              "      };\n",
              "      reader.readAsArrayBuffer(file);\n",
              "    });\n",
              "    // Wait for the data to be ready.\n",
              "    let fileData = yield {\n",
              "      promise: fileDataPromise,\n",
              "      response: {\n",
              "        action: 'continue',\n",
              "      }\n",
              "    };\n",
              "\n",
              "    // Use a chunked sending to avoid message size limits. See b/62115660.\n",
              "    let position = 0;\n",
              "    do {\n",
              "      const length = Math.min(fileData.byteLength - position, MAX_PAYLOAD_SIZE);\n",
              "      const chunk = new Uint8Array(fileData, position, length);\n",
              "      position += length;\n",
              "\n",
              "      const base64 = btoa(String.fromCharCode.apply(null, chunk));\n",
              "      yield {\n",
              "        response: {\n",
              "          action: 'append',\n",
              "          file: file.name,\n",
              "          data: base64,\n",
              "        },\n",
              "      };\n",
              "\n",
              "      let percentDone = fileData.byteLength === 0 ?\n",
              "          100 :\n",
              "          Math.round((position / fileData.byteLength) * 100);\n",
              "      percent.textContent = `${percentDone}% done`;\n",
              "\n",
              "    } while (position < fileData.byteLength);\n",
              "  }\n",
              "\n",
              "  // All done.\n",
              "  yield {\n",
              "    response: {\n",
              "      action: 'complete',\n",
              "    }\n",
              "  };\n",
              "}\n",
              "\n",
              "scope.google = scope.google || {};\n",
              "scope.google.colab = scope.google.colab || {};\n",
              "scope.google.colab._files = {\n",
              "  _uploadFiles,\n",
              "  _uploadFilesContinue,\n",
              "};\n",
              "})(self);\n",
              "</script> "
            ]
          },
          "metadata": {}
        },
        {
          "output_type": "stream",
          "name": "stdout",
          "text": [
            "Saving train_BRCpofr.csv to train_BRCpofr.csv\n"
          ]
        }
      ],
      "source": [
        "from google.colab import files\n",
        "data= files.upload()"
      ]
    },
    {
      "cell_type": "markdown",
      "source": [
        "Took 2m 10s to upload 6MB file"
      ],
      "metadata": {
        "id": "GgrPGwYpUKSP"
      }
    },
    {
      "cell_type": "code",
      "source": [
        "df= pd.read_csv('train_BRCpofr.csv')\n",
        "df.head()"
      ],
      "metadata": {
        "colab": {
          "base_uri": "https://localhost:8080/",
          "height": 206
        },
        "id": "uwcvKjaTUdJF",
        "outputId": "b11546c8-f7ad-4f41-c68a-c8eb1aaa6134"
      },
      "execution_count": null,
      "outputs": [
        {
          "output_type": "execute_result",
          "data": {
            "text/plain": [
              "   id  gender   area qualification         income  marital_status  vintage  \\\n",
              "0   1    Male  Urban      Bachelor         5L-10L               1        5   \n",
              "1   2    Male  Rural   High School         5L-10L               0        8   \n",
              "2   3    Male  Urban      Bachelor         5L-10L               1        8   \n",
              "3   4  Female  Rural   High School         5L-10L               0        7   \n",
              "4   5    Male  Urban   High School  More than 10L               1        6   \n",
              "\n",
              "   claim_amount num_policies policy type_of_policy    cltv  \n",
              "0          5790  More than 1      A       Platinum   64308  \n",
              "1          5080  More than 1      A       Platinum  515400  \n",
              "2          2599  More than 1      A       Platinum   64212  \n",
              "3             0  More than 1      A       Platinum   97920  \n",
              "4          3508  More than 1      A           Gold   59736  "
            ],
            "text/html": [
              "\n",
              "  <div id=\"df-98a25b74-8c15-4009-a97a-73b51e374d68\">\n",
              "    <div class=\"colab-df-container\">\n",
              "      <div>\n",
              "<style scoped>\n",
              "    .dataframe tbody tr th:only-of-type {\n",
              "        vertical-align: middle;\n",
              "    }\n",
              "\n",
              "    .dataframe tbody tr th {\n",
              "        vertical-align: top;\n",
              "    }\n",
              "\n",
              "    .dataframe thead th {\n",
              "        text-align: right;\n",
              "    }\n",
              "</style>\n",
              "<table border=\"1\" class=\"dataframe\">\n",
              "  <thead>\n",
              "    <tr style=\"text-align: right;\">\n",
              "      <th></th>\n",
              "      <th>id</th>\n",
              "      <th>gender</th>\n",
              "      <th>area</th>\n",
              "      <th>qualification</th>\n",
              "      <th>income</th>\n",
              "      <th>marital_status</th>\n",
              "      <th>vintage</th>\n",
              "      <th>claim_amount</th>\n",
              "      <th>num_policies</th>\n",
              "      <th>policy</th>\n",
              "      <th>type_of_policy</th>\n",
              "      <th>cltv</th>\n",
              "    </tr>\n",
              "  </thead>\n",
              "  <tbody>\n",
              "    <tr>\n",
              "      <th>0</th>\n",
              "      <td>1</td>\n",
              "      <td>Male</td>\n",
              "      <td>Urban</td>\n",
              "      <td>Bachelor</td>\n",
              "      <td>5L-10L</td>\n",
              "      <td>1</td>\n",
              "      <td>5</td>\n",
              "      <td>5790</td>\n",
              "      <td>More than 1</td>\n",
              "      <td>A</td>\n",
              "      <td>Platinum</td>\n",
              "      <td>64308</td>\n",
              "    </tr>\n",
              "    <tr>\n",
              "      <th>1</th>\n",
              "      <td>2</td>\n",
              "      <td>Male</td>\n",
              "      <td>Rural</td>\n",
              "      <td>High School</td>\n",
              "      <td>5L-10L</td>\n",
              "      <td>0</td>\n",
              "      <td>8</td>\n",
              "      <td>5080</td>\n",
              "      <td>More than 1</td>\n",
              "      <td>A</td>\n",
              "      <td>Platinum</td>\n",
              "      <td>515400</td>\n",
              "    </tr>\n",
              "    <tr>\n",
              "      <th>2</th>\n",
              "      <td>3</td>\n",
              "      <td>Male</td>\n",
              "      <td>Urban</td>\n",
              "      <td>Bachelor</td>\n",
              "      <td>5L-10L</td>\n",
              "      <td>1</td>\n",
              "      <td>8</td>\n",
              "      <td>2599</td>\n",
              "      <td>More than 1</td>\n",
              "      <td>A</td>\n",
              "      <td>Platinum</td>\n",
              "      <td>64212</td>\n",
              "    </tr>\n",
              "    <tr>\n",
              "      <th>3</th>\n",
              "      <td>4</td>\n",
              "      <td>Female</td>\n",
              "      <td>Rural</td>\n",
              "      <td>High School</td>\n",
              "      <td>5L-10L</td>\n",
              "      <td>0</td>\n",
              "      <td>7</td>\n",
              "      <td>0</td>\n",
              "      <td>More than 1</td>\n",
              "      <td>A</td>\n",
              "      <td>Platinum</td>\n",
              "      <td>97920</td>\n",
              "    </tr>\n",
              "    <tr>\n",
              "      <th>4</th>\n",
              "      <td>5</td>\n",
              "      <td>Male</td>\n",
              "      <td>Urban</td>\n",
              "      <td>High School</td>\n",
              "      <td>More than 10L</td>\n",
              "      <td>1</td>\n",
              "      <td>6</td>\n",
              "      <td>3508</td>\n",
              "      <td>More than 1</td>\n",
              "      <td>A</td>\n",
              "      <td>Gold</td>\n",
              "      <td>59736</td>\n",
              "    </tr>\n",
              "  </tbody>\n",
              "</table>\n",
              "</div>\n",
              "      <button class=\"colab-df-convert\" onclick=\"convertToInteractive('df-98a25b74-8c15-4009-a97a-73b51e374d68')\"\n",
              "              title=\"Convert this dataframe to an interactive table.\"\n",
              "              style=\"display:none;\">\n",
              "        \n",
              "  <svg xmlns=\"http://www.w3.org/2000/svg\" height=\"24px\"viewBox=\"0 0 24 24\"\n",
              "       width=\"24px\">\n",
              "    <path d=\"M0 0h24v24H0V0z\" fill=\"none\"/>\n",
              "    <path d=\"M18.56 5.44l.94 2.06.94-2.06 2.06-.94-2.06-.94-.94-2.06-.94 2.06-2.06.94zm-11 1L8.5 8.5l.94-2.06 2.06-.94-2.06-.94L8.5 2.5l-.94 2.06-2.06.94zm10 10l.94 2.06.94-2.06 2.06-.94-2.06-.94-.94-2.06-.94 2.06-2.06.94z\"/><path d=\"M17.41 7.96l-1.37-1.37c-.4-.4-.92-.59-1.43-.59-.52 0-1.04.2-1.43.59L10.3 9.45l-7.72 7.72c-.78.78-.78 2.05 0 2.83L4 21.41c.39.39.9.59 1.41.59.51 0 1.02-.2 1.41-.59l7.78-7.78 2.81-2.81c.8-.78.8-2.07 0-2.86zM5.41 20L4 18.59l7.72-7.72 1.47 1.35L5.41 20z\"/>\n",
              "  </svg>\n",
              "      </button>\n",
              "      \n",
              "  <style>\n",
              "    .colab-df-container {\n",
              "      display:flex;\n",
              "      flex-wrap:wrap;\n",
              "      gap: 12px;\n",
              "    }\n",
              "\n",
              "    .colab-df-convert {\n",
              "      background-color: #E8F0FE;\n",
              "      border: none;\n",
              "      border-radius: 50%;\n",
              "      cursor: pointer;\n",
              "      display: none;\n",
              "      fill: #1967D2;\n",
              "      height: 32px;\n",
              "      padding: 0 0 0 0;\n",
              "      width: 32px;\n",
              "    }\n",
              "\n",
              "    .colab-df-convert:hover {\n",
              "      background-color: #E2EBFA;\n",
              "      box-shadow: 0px 1px 2px rgba(60, 64, 67, 0.3), 0px 1px 3px 1px rgba(60, 64, 67, 0.15);\n",
              "      fill: #174EA6;\n",
              "    }\n",
              "\n",
              "    [theme=dark] .colab-df-convert {\n",
              "      background-color: #3B4455;\n",
              "      fill: #D2E3FC;\n",
              "    }\n",
              "\n",
              "    [theme=dark] .colab-df-convert:hover {\n",
              "      background-color: #434B5C;\n",
              "      box-shadow: 0px 1px 3px 1px rgba(0, 0, 0, 0.15);\n",
              "      filter: drop-shadow(0px 1px 2px rgba(0, 0, 0, 0.3));\n",
              "      fill: #FFFFFF;\n",
              "    }\n",
              "  </style>\n",
              "\n",
              "      <script>\n",
              "        const buttonEl =\n",
              "          document.querySelector('#df-98a25b74-8c15-4009-a97a-73b51e374d68 button.colab-df-convert');\n",
              "        buttonEl.style.display =\n",
              "          google.colab.kernel.accessAllowed ? 'block' : 'none';\n",
              "\n",
              "        async function convertToInteractive(key) {\n",
              "          const element = document.querySelector('#df-98a25b74-8c15-4009-a97a-73b51e374d68');\n",
              "          const dataTable =\n",
              "            await google.colab.kernel.invokeFunction('convertToInteractive',\n",
              "                                                     [key], {});\n",
              "          if (!dataTable) return;\n",
              "\n",
              "          const docLinkHtml = 'Like what you see? Visit the ' +\n",
              "            '<a target=\"_blank\" href=https://colab.research.google.com/notebooks/data_table.ipynb>data table notebook</a>'\n",
              "            + ' to learn more about interactive tables.';\n",
              "          element.innerHTML = '';\n",
              "          dataTable['output_type'] = 'display_data';\n",
              "          await google.colab.output.renderOutput(dataTable, element);\n",
              "          const docLink = document.createElement('div');\n",
              "          docLink.innerHTML = docLinkHtml;\n",
              "          element.appendChild(docLink);\n",
              "        }\n",
              "      </script>\n",
              "    </div>\n",
              "  </div>\n",
              "  "
            ]
          },
          "metadata": {},
          "execution_count": 3
        }
      ]
    },
    {
      "cell_type": "code",
      "source": [
        "df._get_numeric_data()    #just get a sense of numerical features"
      ],
      "metadata": {
        "id": "opSY2l36VcJm"
      },
      "execution_count": null,
      "outputs": []
    },
    {
      "cell_type": "code",
      "source": [
        "df.info()"
      ],
      "metadata": {
        "colab": {
          "base_uri": "https://localhost:8080/"
        },
        "id": "ik1wxhd-5xY0",
        "outputId": "2bb81001-2e64-4a6f-fc8b-7650c483dff7"
      },
      "execution_count": null,
      "outputs": [
        {
          "output_type": "stream",
          "name": "stdout",
          "text": [
            "<class 'pandas.core.frame.DataFrame'>\n",
            "RangeIndex: 89392 entries, 0 to 89391\n",
            "Data columns (total 12 columns):\n",
            " #   Column          Non-Null Count  Dtype \n",
            "---  ------          --------------  ----- \n",
            " 0   id              89392 non-null  int64 \n",
            " 1   gender          89392 non-null  object\n",
            " 2   area            89392 non-null  object\n",
            " 3   qualification   89392 non-null  object\n",
            " 4   income          89392 non-null  object\n",
            " 5   marital_status  89392 non-null  int64 \n",
            " 6   vintage         89392 non-null  int64 \n",
            " 7   claim_amount    89392 non-null  int64 \n",
            " 8   num_policies    89392 non-null  object\n",
            " 9   policy          89392 non-null  object\n",
            " 10  type_of_policy  89392 non-null  object\n",
            " 11  cltv            89392 non-null  int64 \n",
            "dtypes: int64(5), object(7)\n",
            "memory usage: 8.2+ MB\n"
          ]
        }
      ]
    },
    {
      "cell_type": "code",
      "source": [
        "df.groupby('cltv').mean()       #not useful here\n",
        "df.describe()    \n",
        "df.describe(include='all')  #to get all details"
      ],
      "metadata": {
        "id": "g_WOsRGuZmxe",
        "colab": {
          "base_uri": "https://localhost:8080/",
          "height": 394
        },
        "outputId": "da21e80a-2966-42d0-8517-4eb9ff45e447"
      },
      "execution_count": 15,
      "outputs": [
        {
          "output_type": "execute_result",
          "data": {
            "text/plain": [
              "                  id gender   area qualification  income  marital_status  \\\n",
              "count   89392.000000  89392  89392         89392   89392    89392.000000   \n",
              "unique           NaN      2      2             3       4             NaN   \n",
              "top              NaN   Male  Urban   High School  5L-10L             NaN   \n",
              "freq             NaN  50497  62455         46247   52716             NaN   \n",
              "mean    44696.500000    NaN    NaN           NaN     NaN        0.575488   \n",
              "std     25805.391969    NaN    NaN           NaN     NaN        0.494272   \n",
              "min         1.000000    NaN    NaN           NaN     NaN        0.000000   \n",
              "25%     22348.750000    NaN    NaN           NaN     NaN        0.000000   \n",
              "50%     44696.500000    NaN    NaN           NaN     NaN        1.000000   \n",
              "75%     67044.250000    NaN    NaN           NaN     NaN        1.000000   \n",
              "max     89392.000000    NaN    NaN           NaN     NaN        1.000000   \n",
              "\n",
              "             vintage  claim_amount num_policies policy type_of_policy  \\\n",
              "count   89392.000000  89392.000000        89392  89392          89392   \n",
              "unique           NaN           NaN            2      3              3   \n",
              "top              NaN           NaN  More than 1      A       Platinum   \n",
              "freq             NaN           NaN        60263  56644          47796   \n",
              "mean        4.595669   4351.502416          NaN    NaN            NaN   \n",
              "std         2.290446   3262.359775          NaN    NaN            NaN   \n",
              "min         0.000000      0.000000          NaN    NaN            NaN   \n",
              "25%         3.000000   2406.000000          NaN    NaN            NaN   \n",
              "50%         5.000000   4089.000000          NaN    NaN            NaN   \n",
              "75%         6.000000   6094.000000          NaN    NaN            NaN   \n",
              "max         8.000000  31894.000000          NaN    NaN            NaN   \n",
              "\n",
              "                 cltv  \n",
              "count    89392.000000  \n",
              "unique            NaN  \n",
              "top               NaN  \n",
              "freq              NaN  \n",
              "mean     97952.828978  \n",
              "std      90613.814793  \n",
              "min      24828.000000  \n",
              "25%      52836.000000  \n",
              "50%      66396.000000  \n",
              "75%     103440.000000  \n",
              "max     724068.000000  "
            ],
            "text/html": [
              "\n",
              "  <div id=\"df-76f5645a-8455-4f9d-834b-4f442b17c73b\">\n",
              "    <div class=\"colab-df-container\">\n",
              "      <div>\n",
              "<style scoped>\n",
              "    .dataframe tbody tr th:only-of-type {\n",
              "        vertical-align: middle;\n",
              "    }\n",
              "\n",
              "    .dataframe tbody tr th {\n",
              "        vertical-align: top;\n",
              "    }\n",
              "\n",
              "    .dataframe thead th {\n",
              "        text-align: right;\n",
              "    }\n",
              "</style>\n",
              "<table border=\"1\" class=\"dataframe\">\n",
              "  <thead>\n",
              "    <tr style=\"text-align: right;\">\n",
              "      <th></th>\n",
              "      <th>id</th>\n",
              "      <th>gender</th>\n",
              "      <th>area</th>\n",
              "      <th>qualification</th>\n",
              "      <th>income</th>\n",
              "      <th>marital_status</th>\n",
              "      <th>vintage</th>\n",
              "      <th>claim_amount</th>\n",
              "      <th>num_policies</th>\n",
              "      <th>policy</th>\n",
              "      <th>type_of_policy</th>\n",
              "      <th>cltv</th>\n",
              "    </tr>\n",
              "  </thead>\n",
              "  <tbody>\n",
              "    <tr>\n",
              "      <th>count</th>\n",
              "      <td>89392.000000</td>\n",
              "      <td>89392</td>\n",
              "      <td>89392</td>\n",
              "      <td>89392</td>\n",
              "      <td>89392</td>\n",
              "      <td>89392.000000</td>\n",
              "      <td>89392.000000</td>\n",
              "      <td>89392.000000</td>\n",
              "      <td>89392</td>\n",
              "      <td>89392</td>\n",
              "      <td>89392</td>\n",
              "      <td>89392.000000</td>\n",
              "    </tr>\n",
              "    <tr>\n",
              "      <th>unique</th>\n",
              "      <td>NaN</td>\n",
              "      <td>2</td>\n",
              "      <td>2</td>\n",
              "      <td>3</td>\n",
              "      <td>4</td>\n",
              "      <td>NaN</td>\n",
              "      <td>NaN</td>\n",
              "      <td>NaN</td>\n",
              "      <td>2</td>\n",
              "      <td>3</td>\n",
              "      <td>3</td>\n",
              "      <td>NaN</td>\n",
              "    </tr>\n",
              "    <tr>\n",
              "      <th>top</th>\n",
              "      <td>NaN</td>\n",
              "      <td>Male</td>\n",
              "      <td>Urban</td>\n",
              "      <td>High School</td>\n",
              "      <td>5L-10L</td>\n",
              "      <td>NaN</td>\n",
              "      <td>NaN</td>\n",
              "      <td>NaN</td>\n",
              "      <td>More than 1</td>\n",
              "      <td>A</td>\n",
              "      <td>Platinum</td>\n",
              "      <td>NaN</td>\n",
              "    </tr>\n",
              "    <tr>\n",
              "      <th>freq</th>\n",
              "      <td>NaN</td>\n",
              "      <td>50497</td>\n",
              "      <td>62455</td>\n",
              "      <td>46247</td>\n",
              "      <td>52716</td>\n",
              "      <td>NaN</td>\n",
              "      <td>NaN</td>\n",
              "      <td>NaN</td>\n",
              "      <td>60263</td>\n",
              "      <td>56644</td>\n",
              "      <td>47796</td>\n",
              "      <td>NaN</td>\n",
              "    </tr>\n",
              "    <tr>\n",
              "      <th>mean</th>\n",
              "      <td>44696.500000</td>\n",
              "      <td>NaN</td>\n",
              "      <td>NaN</td>\n",
              "      <td>NaN</td>\n",
              "      <td>NaN</td>\n",
              "      <td>0.575488</td>\n",
              "      <td>4.595669</td>\n",
              "      <td>4351.502416</td>\n",
              "      <td>NaN</td>\n",
              "      <td>NaN</td>\n",
              "      <td>NaN</td>\n",
              "      <td>97952.828978</td>\n",
              "    </tr>\n",
              "    <tr>\n",
              "      <th>std</th>\n",
              "      <td>25805.391969</td>\n",
              "      <td>NaN</td>\n",
              "      <td>NaN</td>\n",
              "      <td>NaN</td>\n",
              "      <td>NaN</td>\n",
              "      <td>0.494272</td>\n",
              "      <td>2.290446</td>\n",
              "      <td>3262.359775</td>\n",
              "      <td>NaN</td>\n",
              "      <td>NaN</td>\n",
              "      <td>NaN</td>\n",
              "      <td>90613.814793</td>\n",
              "    </tr>\n",
              "    <tr>\n",
              "      <th>min</th>\n",
              "      <td>1.000000</td>\n",
              "      <td>NaN</td>\n",
              "      <td>NaN</td>\n",
              "      <td>NaN</td>\n",
              "      <td>NaN</td>\n",
              "      <td>0.000000</td>\n",
              "      <td>0.000000</td>\n",
              "      <td>0.000000</td>\n",
              "      <td>NaN</td>\n",
              "      <td>NaN</td>\n",
              "      <td>NaN</td>\n",
              "      <td>24828.000000</td>\n",
              "    </tr>\n",
              "    <tr>\n",
              "      <th>25%</th>\n",
              "      <td>22348.750000</td>\n",
              "      <td>NaN</td>\n",
              "      <td>NaN</td>\n",
              "      <td>NaN</td>\n",
              "      <td>NaN</td>\n",
              "      <td>0.000000</td>\n",
              "      <td>3.000000</td>\n",
              "      <td>2406.000000</td>\n",
              "      <td>NaN</td>\n",
              "      <td>NaN</td>\n",
              "      <td>NaN</td>\n",
              "      <td>52836.000000</td>\n",
              "    </tr>\n",
              "    <tr>\n",
              "      <th>50%</th>\n",
              "      <td>44696.500000</td>\n",
              "      <td>NaN</td>\n",
              "      <td>NaN</td>\n",
              "      <td>NaN</td>\n",
              "      <td>NaN</td>\n",
              "      <td>1.000000</td>\n",
              "      <td>5.000000</td>\n",
              "      <td>4089.000000</td>\n",
              "      <td>NaN</td>\n",
              "      <td>NaN</td>\n",
              "      <td>NaN</td>\n",
              "      <td>66396.000000</td>\n",
              "    </tr>\n",
              "    <tr>\n",
              "      <th>75%</th>\n",
              "      <td>67044.250000</td>\n",
              "      <td>NaN</td>\n",
              "      <td>NaN</td>\n",
              "      <td>NaN</td>\n",
              "      <td>NaN</td>\n",
              "      <td>1.000000</td>\n",
              "      <td>6.000000</td>\n",
              "      <td>6094.000000</td>\n",
              "      <td>NaN</td>\n",
              "      <td>NaN</td>\n",
              "      <td>NaN</td>\n",
              "      <td>103440.000000</td>\n",
              "    </tr>\n",
              "    <tr>\n",
              "      <th>max</th>\n",
              "      <td>89392.000000</td>\n",
              "      <td>NaN</td>\n",
              "      <td>NaN</td>\n",
              "      <td>NaN</td>\n",
              "      <td>NaN</td>\n",
              "      <td>1.000000</td>\n",
              "      <td>8.000000</td>\n",
              "      <td>31894.000000</td>\n",
              "      <td>NaN</td>\n",
              "      <td>NaN</td>\n",
              "      <td>NaN</td>\n",
              "      <td>724068.000000</td>\n",
              "    </tr>\n",
              "  </tbody>\n",
              "</table>\n",
              "</div>\n",
              "      <button class=\"colab-df-convert\" onclick=\"convertToInteractive('df-76f5645a-8455-4f9d-834b-4f442b17c73b')\"\n",
              "              title=\"Convert this dataframe to an interactive table.\"\n",
              "              style=\"display:none;\">\n",
              "        \n",
              "  <svg xmlns=\"http://www.w3.org/2000/svg\" height=\"24px\"viewBox=\"0 0 24 24\"\n",
              "       width=\"24px\">\n",
              "    <path d=\"M0 0h24v24H0V0z\" fill=\"none\"/>\n",
              "    <path d=\"M18.56 5.44l.94 2.06.94-2.06 2.06-.94-2.06-.94-.94-2.06-.94 2.06-2.06.94zm-11 1L8.5 8.5l.94-2.06 2.06-.94-2.06-.94L8.5 2.5l-.94 2.06-2.06.94zm10 10l.94 2.06.94-2.06 2.06-.94-2.06-.94-.94-2.06-.94 2.06-2.06.94z\"/><path d=\"M17.41 7.96l-1.37-1.37c-.4-.4-.92-.59-1.43-.59-.52 0-1.04.2-1.43.59L10.3 9.45l-7.72 7.72c-.78.78-.78 2.05 0 2.83L4 21.41c.39.39.9.59 1.41.59.51 0 1.02-.2 1.41-.59l7.78-7.78 2.81-2.81c.8-.78.8-2.07 0-2.86zM5.41 20L4 18.59l7.72-7.72 1.47 1.35L5.41 20z\"/>\n",
              "  </svg>\n",
              "      </button>\n",
              "      \n",
              "  <style>\n",
              "    .colab-df-container {\n",
              "      display:flex;\n",
              "      flex-wrap:wrap;\n",
              "      gap: 12px;\n",
              "    }\n",
              "\n",
              "    .colab-df-convert {\n",
              "      background-color: #E8F0FE;\n",
              "      border: none;\n",
              "      border-radius: 50%;\n",
              "      cursor: pointer;\n",
              "      display: none;\n",
              "      fill: #1967D2;\n",
              "      height: 32px;\n",
              "      padding: 0 0 0 0;\n",
              "      width: 32px;\n",
              "    }\n",
              "\n",
              "    .colab-df-convert:hover {\n",
              "      background-color: #E2EBFA;\n",
              "      box-shadow: 0px 1px 2px rgba(60, 64, 67, 0.3), 0px 1px 3px 1px rgba(60, 64, 67, 0.15);\n",
              "      fill: #174EA6;\n",
              "    }\n",
              "\n",
              "    [theme=dark] .colab-df-convert {\n",
              "      background-color: #3B4455;\n",
              "      fill: #D2E3FC;\n",
              "    }\n",
              "\n",
              "    [theme=dark] .colab-df-convert:hover {\n",
              "      background-color: #434B5C;\n",
              "      box-shadow: 0px 1px 3px 1px rgba(0, 0, 0, 0.15);\n",
              "      filter: drop-shadow(0px 1px 2px rgba(0, 0, 0, 0.3));\n",
              "      fill: #FFFFFF;\n",
              "    }\n",
              "  </style>\n",
              "\n",
              "      <script>\n",
              "        const buttonEl =\n",
              "          document.querySelector('#df-76f5645a-8455-4f9d-834b-4f442b17c73b button.colab-df-convert');\n",
              "        buttonEl.style.display =\n",
              "          google.colab.kernel.accessAllowed ? 'block' : 'none';\n",
              "\n",
              "        async function convertToInteractive(key) {\n",
              "          const element = document.querySelector('#df-76f5645a-8455-4f9d-834b-4f442b17c73b');\n",
              "          const dataTable =\n",
              "            await google.colab.kernel.invokeFunction('convertToInteractive',\n",
              "                                                     [key], {});\n",
              "          if (!dataTable) return;\n",
              "\n",
              "          const docLinkHtml = 'Like what you see? Visit the ' +\n",
              "            '<a target=\"_blank\" href=https://colab.research.google.com/notebooks/data_table.ipynb>data table notebook</a>'\n",
              "            + ' to learn more about interactive tables.';\n",
              "          element.innerHTML = '';\n",
              "          dataTable['output_type'] = 'display_data';\n",
              "          await google.colab.output.renderOutput(dataTable, element);\n",
              "          const docLink = document.createElement('div');\n",
              "          docLink.innerHTML = docLinkHtml;\n",
              "          element.appendChild(docLink);\n",
              "        }\n",
              "      </script>\n",
              "    </div>\n",
              "  </div>\n",
              "  "
            ]
          },
          "metadata": {},
          "execution_count": 15
        }
      ]
    },
    {
      "cell_type": "code",
      "source": [
        "df.isnull().sum()     #checking null values count, found no null values"
      ],
      "metadata": {
        "id": "mSZd7o66Wg0h"
      },
      "execution_count": null,
      "outputs": []
    },
    {
      "cell_type": "code",
      "source": [
        "#checking duplicates\n",
        "df.duplicated().sum()     #no duplicates\n",
        "# check for duplicates in the entire dataframe\n",
        "'''duplicate_rows = df.duplicated()\n",
        "print(duplicate_rows)'''"
      ],
      "metadata": {
        "id": "Y5y4ASSf6DK_"
      },
      "execution_count": null,
      "outputs": []
    },
    {
      "cell_type": "code",
      "source": [
        "#checking unique values in each col.\n",
        "df.nunique()  "
      ],
      "metadata": {
        "id": "K8SY0yaTBeP8"
      },
      "execution_count": null,
      "outputs": []
    },
    {
      "cell_type": "code",
      "source": [
        "#Further checking categorical data unique values\n",
        "print(list(df['gender'].unique()))\n",
        "print(list(df['area'].unique()))\n",
        "print(list(df['qualification'].unique()))\n",
        "print(list(df['num_policies'].unique()))\n",
        "print(list(df['policy'].unique()))\n",
        "print(list(df['type_of_policy'].unique()))\n",
        "print(list(df['income'].unique()))\n",
        "print(list(df['marital_status'].unique()))"
      ],
      "metadata": {
        "colab": {
          "base_uri": "https://localhost:8080/"
        },
        "id": "sdvCyrVSWxEh",
        "outputId": "a4543f23-d2f7-4b5b-df02-934f9916a600"
      },
      "execution_count": null,
      "outputs": [
        {
          "output_type": "stream",
          "name": "stdout",
          "text": [
            "['Male', 'Female']\n",
            "['Urban', 'Rural']\n",
            "['Bachelor', 'High School', 'Others']\n",
            "['More than 1', '1']\n",
            "['A', 'C', 'B']\n",
            "['Platinum', 'Gold', 'Silver']\n",
            "['5L-10L', 'More than 10L', '2L-5L', '<=2L']\n",
            "[1, 0]\n"
          ]
        }
      ]
    },
    {
      "cell_type": "code",
      "source": [
        "#finding outliers\n",
        "df.boxplot()\n",
        "\n",
        "# checking outlier, not useful here\n",
        "'''Q1 = df.quantile(0.25)\n",
        "Q3 = df.quantile(0.75)\n",
        "IQR = Q3 - Q1\n",
        "outliers = df[~((df < (Q1 - 1.5 * IQR)) |(df > (Q3 + 1.5 * IQR))).any(axis=1)]\n",
        "print(outliers)'''"
      ],
      "metadata": {
        "colab": {
          "base_uri": "https://localhost:8080/",
          "height": 283
        },
        "id": "52TZIZW-7izE",
        "outputId": "4aec395c-daed-470c-fa18-3a18492b7f20"
      },
      "execution_count": null,
      "outputs": [
        {
          "output_type": "execute_result",
          "data": {
            "text/plain": [
              "<matplotlib.axes._subplots.AxesSubplot at 0x7efce5ff7820>"
            ]
          },
          "metadata": {},
          "execution_count": 15
        },
        {
          "output_type": "display_data",
          "data": {
            "text/plain": [
              "<Figure size 432x288 with 1 Axes>"
            ],
            "image/png": "[encoded data removed]"
          },
          "metadata": {
            "needs_background": "light"
          }
        }
      ]
    },
    {
      "cell_type": "markdown",
      "source": [
        "Not getting sense , we can try whiskers plot on individual features to know about data variance and outliers."
      ],
      "metadata": {
        "id": "EmZ38TlsIzgr"
      }
    },
    {
      "cell_type": "code",
      "source": [
        "# checking correlation between columns\n",
        "df.corr()\n",
        "#It is typically used to measure the linear association between numerical variables & not for categorical\n",
        "#Higher(in numbers) correlation (any sign) tells the higher effect on dependent variable "
      ],
      "metadata": {
        "colab": {
          "base_uri": "https://localhost:8080/",
          "height": 206
        },
        "id": "ZUY-8wVxB7cy",
        "outputId": "17a60678-6205-40e1-9485-f7a95d30f50c"
      },
      "execution_count": null,
      "outputs": [
        {
          "output_type": "execute_result",
          "data": {
            "text/plain": [
              "                      id  marital_status   vintage  claim_amount      cltv\n",
              "id              1.000000        0.000171 -0.005824      0.003634 -0.004223\n",
              "marital_status  0.000171        1.000000 -0.011686     -0.114924 -0.077744\n",
              "vintage        -0.005824       -0.011686  1.000000      0.009579  0.020608\n",
              "claim_amount    0.003634       -0.114924  0.009579      1.000000  0.180344\n",
              "cltv           -0.004223       -0.077744  0.020608      0.180344  1.000000"
            ],
            "text/html": [
              "\n",
              "  <div id=\"df-f0d81458-5d32-4ecb-beff-384612e986c5\">\n",
              "    <div class=\"colab-df-container\">\n",
              "      <div>\n",
              "<style scoped>\n",
              "    .dataframe tbody tr th:only-of-type {\n",
              "        vertical-align: middle;\n",
              "    }\n",
              "\n",
              "    .dataframe tbody tr th {\n",
              "        vertical-align: top;\n",
              "    }\n",
              "\n",
              "    .dataframe thead th {\n",
              "        text-align: right;\n",
              "    }\n",
              "</style>\n",
              "<table border=\"1\" class=\"dataframe\">\n",
              "  <thead>\n",
              "    <tr style=\"text-align: right;\">\n",
              "      <th></th>\n",
              "      <th>id</th>\n",
              "      <th>marital_status</th>\n",
              "      <th>vintage</th>\n",
              "      <th>claim_amount</th>\n",
              "      <th>cltv</th>\n",
              "    </tr>\n",
              "  </thead>\n",
              "  <tbody>\n",
              "    <tr>\n",
              "      <th>id</th>\n",
              "      <td>1.000000</td>\n",
              "      <td>0.000171</td>\n",
              "      <td>-0.005824</td>\n",
              "      <td>0.003634</td>\n",
              "      <td>-0.004223</td>\n",
              "    </tr>\n",
              "    <tr>\n",
              "      <th>marital_status</th>\n",
              "      <td>0.000171</td>\n",
              "      <td>1.000000</td>\n",
              "      <td>-0.011686</td>\n",
              "      <td>-0.114924</td>\n",
              "      <td>-0.077744</td>\n",
              "    </tr>\n",
              "    <tr>\n",
              "      <th>vintage</th>\n",
              "      <td>-0.005824</td>\n",
              "      <td>-0.011686</td>\n",
              "      <td>1.000000</td>\n",
              "      <td>0.009579</td>\n",
              "      <td>0.020608</td>\n",
              "    </tr>\n",
              "    <tr>\n",
              "      <th>claim_amount</th>\n",
              "      <td>0.003634</td>\n",
              "      <td>-0.114924</td>\n",
              "      <td>0.009579</td>\n",
              "      <td>1.000000</td>\n",
              "      <td>0.180344</td>\n",
              "    </tr>\n",
              "    <tr>\n",
              "      <th>cltv</th>\n",
              "      <td>-0.004223</td>\n",
              "      <td>-0.077744</td>\n",
              "      <td>0.020608</td>\n",
              "      <td>0.180344</td>\n",
              "      <td>1.000000</td>\n",
              "    </tr>\n",
              "  </tbody>\n",
              "</table>\n",
              "</div>\n",
              "      <button class=\"colab-df-convert\" onclick=\"convertToInteractive('df-f0d81458-5d32-4ecb-beff-384612e986c5')\"\n",
              "              title=\"Convert this dataframe to an interactive table.\"\n",
              "              style=\"display:none;\">\n",
              "        \n",
              "  <svg xmlns=\"http://www.w3.org/2000/svg\" height=\"24px\"viewBox=\"0 0 24 24\"\n",
              "       width=\"24px\">\n",
              "    <path d=\"M0 0h24v24H0V0z\" fill=\"none\"/>\n",
              "    <path d=\"M18.56 5.44l.94 2.06.94-2.06 2.06-.94-2.06-.94-.94-2.06-.94 2.06-2.06.94zm-11 1L8.5 8.5l.94-2.06 2.06-.94-2.06-.94L8.5 2.5l-.94 2.06-2.06.94zm10 10l.94 2.06.94-2.06 2.06-.94-2.06-.94-.94-2.06-.94 2.06-2.06.94z\"/><path d=\"M17.41 7.96l-1.37-1.37c-.4-.4-.92-.59-1.43-.59-.52 0-1.04.2-1.43.59L10.3 9.45l-7.72 7.72c-.78.78-.78 2.05 0 2.83L4 21.41c.39.39.9.59 1.41.59.51 0 1.02-.2 1.41-.59l7.78-7.78 2.81-2.81c.8-.78.8-2.07 0-2.86zM5.41 20L4 18.59l7.72-7.72 1.47 1.35L5.41 20z\"/>\n",
              "  </svg>\n",
              "      </button>\n",
              "      \n",
              "  <style>\n",
              "    .colab-df-container {\n",
              "      display:flex;\n",
              "      flex-wrap:wrap;\n",
              "      gap: 12px;\n",
              "    }\n",
              "\n",
              "    .colab-df-convert {\n",
              "      background-color: #E8F0FE;\n",
              "      border: none;\n",
              "      border-radius: 50%;\n",
              "      cursor: pointer;\n",
              "      display: none;\n",
              "      fill: #1967D2;\n",
              "      height: 32px;\n",
              "      padding: 0 0 0 0;\n",
              "      width: 32px;\n",
              "    }\n",
              "\n",
              "    .colab-df-convert:hover {\n",
              "      background-color: #E2EBFA;\n",
              "      box-shadow: 0px 1px 2px rgba(60, 64, 67, 0.3), 0px 1px 3px 1px rgba(60, 64, 67, 0.15);\n",
              "      fill: #174EA6;\n",
              "    }\n",
              "\n",
              "    [theme=dark] .colab-df-convert {\n",
              "      background-color: #3B4455;\n",
              "      fill: #D2E3FC;\n",
              "    }\n",
              "\n",
              "    [theme=dark] .colab-df-convert:hover {\n",
              "      background-color: #434B5C;\n",
              "      box-shadow: 0px 1px 3px 1px rgba(0, 0, 0, 0.15);\n",
              "      filter: drop-shadow(0px 1px 2px rgba(0, 0, 0, 0.3));\n",
              "      fill: #FFFFFF;\n",
              "    }\n",
              "  </style>\n",
              "\n",
              "      <script>\n",
              "        const buttonEl =\n",
              "          document.querySelector('#df-f0d81458-5d32-4ecb-beff-384612e986c5 button.colab-df-convert');\n",
              "        buttonEl.style.display =\n",
              "          google.colab.kernel.accessAllowed ? 'block' : 'none';\n",
              "\n",
              "        async function convertToInteractive(key) {\n",
              "          const element = document.querySelector('#df-f0d81458-5d32-4ecb-beff-384612e986c5');\n",
              "          const dataTable =\n",
              "            await google.colab.kernel.invokeFunction('convertToInteractive',\n",
              "                                                     [key], {});\n",
              "          if (!dataTable) return;\n",
              "\n",
              "          const docLinkHtml = 'Like what you see? Visit the ' +\n",
              "            '<a target=\"_blank\" href=https://colab.research.google.com/notebooks/data_table.ipynb>data table notebook</a>'\n",
              "            + ' to learn more about interactive tables.';\n",
              "          element.innerHTML = '';\n",
              "          dataTable['output_type'] = 'display_data';\n",
              "          await google.colab.output.renderOutput(dataTable, element);\n",
              "          const docLink = document.createElement('div');\n",
              "          docLink.innerHTML = docLinkHtml;\n",
              "          element.appendChild(docLink);\n",
              "        }\n",
              "      </script>\n",
              "    </div>\n",
              "  </div>\n",
              "  "
            ]
          },
          "metadata": {},
          "execution_count": 19
        }
      ]
    },
    {
      "cell_type": "markdown",
      "source": [
        "It tells, claim amount has high corr compare to others"
      ],
      "metadata": {
        "id": "nJW-i-qUDOiH"
      }
    },
    {
      "cell_type": "code",
      "source": [
        "# checking what are the pecentage of the each categories contribution in the column\n",
        "plt.figure(figsize=(20,12))\n",
        "\n",
        "plt.subplot(3,3,1)\n",
        "df['gender'].value_counts().plot(kind='pie',autopct='%.2f')\n",
        "\n",
        "plt.subplot(3,3,2)\n",
        "df['area'].value_counts().plot(kind='pie',autopct='%.2f')\n",
        "\n",
        "plt.subplot(3,3,3)\n",
        "df['qualification'].value_counts().plot(kind='pie',autopct='%.2f')\n",
        "\n",
        "plt.subplot(3,3,4)\n",
        "df['income'].value_counts().plot(kind='pie',autopct='%.2f')\n",
        "\n",
        "plt.subplot(3,3,5)\n",
        "df['marital_status'].value_counts().plot(kind='pie',autopct='%.2f')\n",
        "\n",
        "plt.subplot(3,3,6)\n",
        "df['num_policies'].value_counts().plot(kind='pie',autopct='%.2f')\n",
        "\n",
        "plt.subplot(3,3,7)\n",
        "df['policy'].value_counts().plot(kind='pie',autopct='%.2f')\n",
        "\n",
        "plt.subplot(3,3,8)\n",
        "df['type_of_policy'].value_counts().plot(kind='pie',autopct='%.2f')\n",
        "\n",
        "plt.show()"
      ],
      "metadata": {
        "colab": {
          "base_uri": "https://localhost:8080/",
          "height": 683
        },
        "id": "W3b0FTcjE7yy",
        "outputId": "2614814d-fbb4-4a19-91e4-29567e2b2da3"
      },
      "execution_count": null,
      "outputs": [
        {
          "output_type": "display_data",
          "data": {
            "text/plain": [
              "<Figure size 1440x864 with 8 Axes>"
            ],
            "image/png": "[encoded data removed]"
          },
          "metadata": {}
        }
      ]
    },
    {
      "cell_type": "markdown",
      "source": [
        "Independendent feature are not balanced, just for knowing about dataset"
      ],
      "metadata": {
        "id": "FA7y_IFhJQlU"
      }
    },
    {
      "cell_type": "code",
      "source": [
        "#Can try count plot as well to check in numbers\n",
        "plt.subplot(1,1,1)\n",
        "sns.countplot(x=df['type_of_policy'])\n",
        "\n",
        "plt.show()"
      ],
      "metadata": {
        "id": "tIUMJvgTYeaJ",
        "colab": {
          "base_uri": "https://localhost:8080/",
          "height": 283
        },
        "outputId": "cb9d5c6d-4565-44c2-9c1e-701360a3f752"
      },
      "execution_count": null,
      "outputs": [
        {
          "output_type": "display_data",
          "data": {
            "text/plain": [
              "<Figure size 432x288 with 1 Axes>"
            ],
            "image/png": "[encoded data removed]"
          },
          "metadata": {
            "needs_background": "light"
          }
        }
      ]
    },
    {
      "cell_type": "code",
      "source": [
        "plt.scatter(df['claim_amount'], df['cltv'])\n",
        "\n",
        "#we can use pdf as well"
      ],
      "metadata": {
        "colab": {
          "base_uri": "https://localhost:8080/",
          "height": 283
        },
        "id": "Q6wCUZX-buYr",
        "outputId": "b4bfbe44-9c61-4853-8a22-108396cb9718"
      },
      "execution_count": null,
      "outputs": [
        {
          "output_type": "execute_result",
          "data": {
            "text/plain": [
              "<matplotlib.collections.PathCollection at 0x7fe335bbac70>"
            ]
          },
          "metadata": {},
          "execution_count": 81
        },
        {
          "output_type": "display_data",
          "data": {
            "text/plain": [
              "<Figure size 432x288 with 1 Axes>"
            ],
            "image/png": "[encoded data removed]"
          },
          "metadata": {
            "needs_background": "light"
          }
        }
      ]
    },
    {
      "cell_type": "markdown",
      "source": [
        "cltv is decreasing when claim amount is increasing. But, sround 75% users claim amount is less than 7k (check df.describe) "
      ],
      "metadata": {
        "id": "UsHT7CbccP6H"
      }
    },
    {
      "cell_type": "code",
      "source": [
        "#try build model with single feature to check feature importance, reshape is required for this.\n",
        "#try only on numerical cols bcoz to work on categ cols, first u need to convert into numerical form\n",
        "X= df['claim_amount']\n",
        "y= df['cltv']\n",
        "X= X.values.reshape(-1, 1)\n",
        "\n",
        "X_train, X_test, y_train, y_test= train_test_split(X, y, test_size= 0.3, random_state= 10)"
      ],
      "metadata": {
        "id": "qMbJpCanUmn3"
      },
      "execution_count": null,
      "outputs": []
    },
    {
      "cell_type": "code",
      "source": [
        "'''X= df['vintage']\n",
        "y= df['cltv']\n",
        "X= X.values.reshape(-1, 1)\n",
        "\n",
        "X_train, X_test, y_train, y_test= train_test_split(X, y, test_size= 0.3, random_state= 10)\n",
        "\n",
        "X= df['marital_status']\n",
        "y= df['cltv']\n",
        "X= X.values.reshape(-1, 1)\n",
        "\n",
        "X_train, X_test, y_train, y_test= train_test_split(X, y, test_size= 0.3, random_state= 10)'''"
      ],
      "metadata": {
        "id": "0SY7VnjSaYzJ"
      },
      "execution_count": null,
      "outputs": []
    },
    {
      "cell_type": "code",
      "source": [
        "from sklearn.linear_model import LinearRegression\n",
        "model= LinearRegression()\n",
        "#When applying linear regression with a single feature as input and target, you need to reshape the data so that it has the correct format for the model.\n",
        "#Reshape your data either using array.reshape(-1, 1) if your data has a single feature or array.reshape(1, -1) if it contains a single sample.\n",
        "model.fit(X_train, y_train)\n",
        "y_pr= model.predict(X_test)"
      ],
      "metadata": {
        "id": "MWZO-iErVpsB"
      },
      "execution_count": null,
      "outputs": []
    },
    {
      "cell_type": "code",
      "source": [
        "from sklearn.metrics import r2_score\n",
        "\n",
        "r2 = r2_score(y_test, y_pr)\n",
        "print(r2)"
      ],
      "metadata": {
        "colab": {
          "base_uri": "https://localhost:8080/"
        },
        "id": "EOO2oS0mWe9D",
        "outputId": "7d55bd2f-12ef-4d24-e773-75e982b9e9ce"
      },
      "execution_count": null,
      "outputs": [
        {
          "output_type": "stream",
          "name": "stdout",
          "text": [
            "0.007527722586860963\n"
          ]
        }
      ]
    },
    {
      "cell_type": "markdown",
      "source": [
        "0.03222019068184112    clm amnt has higher importance\n",
        "\n",
        "0.0006531512108858273   vintage\n",
        "\n",
        "0.007527722586860963    m"
      ],
      "metadata": {
        "id": "wvAM06qHaqHY"
      }
    },
    {
      "cell_type": "markdown",
      "source": [
        "#Encoding (cat to num)"
      ],
      "metadata": {
        "id": "V_fCDj9sXZmJ"
      }
    },
    {
      "cell_type": "code",
      "source": [
        "#About Encodings\n",
        "#It's like a label encoding without library\n",
        "#But, we will not use this, instead we use one-hot\n",
        "'''for i in range (0, len(df)):\n",
        "  if df['gender'][i]== 'Male':\n",
        "    df['gender'][i]= 1\n",
        "  else:\n",
        "    df['gender'][i]= 0'''\n",
        "\n",
        "#from sklearn.preprocessing import LabelEncoder\n",
        "'''enc = OneHotEncoder()\n",
        "enc.fit(['apple', 'banana', 'orange'])\n",
        "enc.transform(['apple', 'banana', 'orange'])'''\n",
        "\n",
        "#label enc\n",
        "'''le = LabelEncoder()\n",
        "le.fit(df['area'])          #urban= 1\n",
        "df['area']= le.transform(df['area'])\n",
        "\n",
        "le.fit(df['num_policies'])        #more than one= 1\n",
        "df['num_policies']= le.transform(df['num_policies'])\n",
        "df.head()'''\n",
        "\n",
        "#we can do label enc as well but causes bias (1>0). So, here we should not use label on gender, area etc\n",
        "#& can use on qualification, income etc bcoz we can give preference(value) to those"
      ],
      "metadata": {
        "id": "8OKKYbraxi6x"
      },
      "execution_count": null,
      "outputs": []
    },
    {
      "cell_type": "code",
      "source": [
        "#one hot using get_dummies\n",
        "one_hot_data = pd.get_dummies(df, columns = ['gender', 'area', 'qualification', 'income', 'num_policies', 'policy', 'type_of_policy'])\n",
        "one_hot_data.head()"
      ],
      "metadata": {
        "colab": {
          "base_uri": "https://localhost:8080/",
          "height": 317
        },
        "id": "prtOa34l7_1g",
        "outputId": "90277cfd-d04a-457d-c9f6-5347606f240d"
      },
      "execution_count": null,
      "outputs": [
        {
          "output_type": "execute_result",
          "data": {
            "text/plain": [
              "   id  marital_status  vintage  claim_amount    cltv  gender_Female  \\\n",
              "0   1               1        5          5790   64308              0   \n",
              "1   2               0        8          5080  515400              0   \n",
              "2   3               1        8          2599   64212              0   \n",
              "3   4               0        7             0   97920              1   \n",
              "4   5               1        6          3508   59736              0   \n",
              "\n",
              "   gender_Male  area_Rural  area_Urban  qualification_Bachelor  ...  \\\n",
              "0            1           0           1                       1  ...   \n",
              "1            1           1           0                       0  ...   \n",
              "2            1           0           1                       1  ...   \n",
              "3            0           1           0                       0  ...   \n",
              "4            1           0           1                       0  ...   \n",
              "\n",
              "   income_<=2L  income_More than 10L  num_policies_1  \\\n",
              "0            0                     0               0   \n",
              "1            0                     0               0   \n",
              "2            0                     0               0   \n",
              "3            0                     0               0   \n",
              "4            0                     1               0   \n",
              "\n",
              "   num_policies_More than 1  policy_A  policy_B  policy_C  \\\n",
              "0                         1         1         0         0   \n",
              "1                         1         1         0         0   \n",
              "2                         1         1         0         0   \n",
              "3                         1         1         0         0   \n",
              "4                         1         1         0         0   \n",
              "\n",
              "   type_of_policy_Gold  type_of_policy_Platinum  type_of_policy_Silver  \n",
              "0                    0                        1                      0  \n",
              "1                    0                        1                      0  \n",
              "2                    0                        1                      0  \n",
              "3                    0                        1                      0  \n",
              "4                    1                        0                      0  \n",
              "\n",
              "[5 rows x 24 columns]"
            ],
            "text/html": [
              "\n",
              "  <div id=\"df-f42ac1cd-9191-4046-ba74-fa7a8970b0af\">\n",
              "    <div class=\"colab-df-container\">\n",
              "      <div>\n",
              "<style scoped>\n",
              "    .dataframe tbody tr th:only-of-type {\n",
              "        vertical-align: middle;\n",
              "    }\n",
              "\n",
              "    .dataframe tbody tr th {\n",
              "        vertical-align: top;\n",
              "    }\n",
              "\n",
              "    .dataframe thead th {\n",
              "        text-align: right;\n",
              "    }\n",
              "</style>\n",
              "<table border=\"1\" class=\"dataframe\">\n",
              "  <thead>\n",
              "    <tr style=\"text-align: right;\">\n",
              "      <th></th>\n",
              "      <th>id</th>\n",
              "      <th>marital_status</th>\n",
              "      <th>vintage</th>\n",
              "      <th>claim_amount</th>\n",
              "      <th>cltv</th>\n",
              "      <th>gender_Female</th>\n",
              "      <th>gender_Male</th>\n",
              "      <th>area_Rural</th>\n",
              "      <th>area_Urban</th>\n",
              "      <th>qualification_Bachelor</th>\n",
              "      <th>...</th>\n",
              "      <th>income_&lt;=2L</th>\n",
              "      <th>income_More than 10L</th>\n",
              "      <th>num_policies_1</th>\n",
              "      <th>num_policies_More than 1</th>\n",
              "      <th>policy_A</th>\n",
              "      <th>policy_B</th>\n",
              "      <th>policy_C</th>\n",
              "      <th>type_of_policy_Gold</th>\n",
              "      <th>type_of_policy_Platinum</th>\n",
              "      <th>type_of_policy_Silver</th>\n",
              "    </tr>\n",
              "  </thead>\n",
              "  <tbody>\n",
              "    <tr>\n",
              "      <th>0</th>\n",
              "      <td>1</td>\n",
              "      <td>1</td>\n",
              "      <td>5</td>\n",
              "      <td>5790</td>\n",
              "      <td>64308</td>\n",
              "      <td>0</td>\n",
              "      <td>1</td>\n",
              "      <td>0</td>\n",
              "      <td>1</td>\n",
              "      <td>1</td>\n",
              "      <td>...</td>\n",
              "      <td>0</td>\n",
              "      <td>0</td>\n",
              "      <td>0</td>\n",
              "      <td>1</td>\n",
              "      <td>1</td>\n",
              "      <td>0</td>\n",
              "      <td>0</td>\n",
              "      <td>0</td>\n",
              "      <td>1</td>\n",
              "      <td>0</td>\n",
              "    </tr>\n",
              "    <tr>\n",
              "      <th>1</th>\n",
              "      <td>2</td>\n",
              "      <td>0</td>\n",
              "      <td>8</td>\n",
              "      <td>5080</td>\n",
              "      <td>515400</td>\n",
              "      <td>0</td>\n",
              "      <td>1</td>\n",
              "      <td>1</td>\n",
              "      <td>0</td>\n",
              "      <td>0</td>\n",
              "      <td>...</td>\n",
              "      <td>0</td>\n",
              "      <td>0</td>\n",
              "      <td>0</td>\n",
              "      <td>1</td>\n",
              "      <td>1</td>\n",
              "      <td>0</td>\n",
              "      <td>0</td>\n",
              "      <td>0</td>\n",
              "      <td>1</td>\n",
              "      <td>0</td>\n",
              "    </tr>\n",
              "    <tr>\n",
              "      <th>2</th>\n",
              "      <td>3</td>\n",
              "      <td>1</td>\n",
              "      <td>8</td>\n",
              "      <td>2599</td>\n",
              "      <td>64212</td>\n",
              "      <td>0</td>\n",
              "      <td>1</td>\n",
              "      <td>0</td>\n",
              "      <td>1</td>\n",
              "      <td>1</td>\n",
              "      <td>...</td>\n",
              "      <td>0</td>\n",
              "      <td>0</td>\n",
              "      <td>0</td>\n",
              "      <td>1</td>\n",
              "      <td>1</td>\n",
              "      <td>0</td>\n",
              "      <td>0</td>\n",
              "      <td>0</td>\n",
              "      <td>1</td>\n",
              "      <td>0</td>\n",
              "    </tr>\n",
              "    <tr>\n",
              "      <th>3</th>\n",
              "      <td>4</td>\n",
              "      <td>0</td>\n",
              "      <td>7</td>\n",
              "      <td>0</td>\n",
              "      <td>97920</td>\n",
              "      <td>1</td>\n",
              "      <td>0</td>\n",
              "      <td>1</td>\n",
              "      <td>0</td>\n",
              "      <td>0</td>\n",
              "      <td>...</td>\n",
              "      <td>0</td>\n",
              "      <td>0</td>\n",
              "      <td>0</td>\n",
              "      <td>1</td>\n",
              "      <td>1</td>\n",
              "      <td>0</td>\n",
              "      <td>0</td>\n",
              "      <td>0</td>\n",
              "      <td>1</td>\n",
              "      <td>0</td>\n",
              "    </tr>\n",
              "    <tr>\n",
              "      <th>4</th>\n",
              "      <td>5</td>\n",
              "      <td>1</td>\n",
              "      <td>6</td>\n",
              "      <td>3508</td>\n",
              "      <td>59736</td>\n",
              "      <td>0</td>\n",
              "      <td>1</td>\n",
              "      <td>0</td>\n",
              "      <td>1</td>\n",
              "      <td>0</td>\n",
              "      <td>...</td>\n",
              "      <td>0</td>\n",
              "      <td>1</td>\n",
              "      <td>0</td>\n",
              "      <td>1</td>\n",
              "      <td>1</td>\n",
              "      <td>0</td>\n",
              "      <td>0</td>\n",
              "      <td>1</td>\n",
              "      <td>0</td>\n",
              "      <td>0</td>\n",
              "    </tr>\n",
              "  </tbody>\n",
              "</table>\n",
              "<p>5 rows × 24 columns</p>\n",
              "</div>\n",
              "      <button class=\"colab-df-convert\" onclick=\"convertToInteractive('df-f42ac1cd-9191-4046-ba74-fa7a8970b0af')\"\n",
              "              title=\"Convert this dataframe to an interactive table.\"\n",
              "              style=\"display:none;\">\n",
              "        \n",
              "  <svg xmlns=\"http://www.w3.org/2000/svg\" height=\"24px\"viewBox=\"0 0 24 24\"\n",
              "       width=\"24px\">\n",
              "    <path d=\"M0 0h24v24H0V0z\" fill=\"none\"/>\n",
              "    <path d=\"M18.56 5.44l.94 2.06.94-2.06 2.06-.94-2.06-.94-.94-2.06-.94 2.06-2.06.94zm-11 1L8.5 8.5l.94-2.06 2.06-.94-2.06-.94L8.5 2.5l-.94 2.06-2.06.94zm10 10l.94 2.06.94-2.06 2.06-.94-2.06-.94-.94-2.06-.94 2.06-2.06.94z\"/><path d=\"M17.41 7.96l-1.37-1.37c-.4-.4-.92-.59-1.43-.59-.52 0-1.04.2-1.43.59L10.3 9.45l-7.72 7.72c-.78.78-.78 2.05 0 2.83L4 21.41c.39.39.9.59 1.41.59.51 0 1.02-.2 1.41-.59l7.78-7.78 2.81-2.81c.8-.78.8-2.07 0-2.86zM5.41 20L4 18.59l7.72-7.72 1.47 1.35L5.41 20z\"/>\n",
              "  </svg>\n",
              "      </button>\n",
              "      \n",
              "  <style>\n",
              "    .colab-df-container {\n",
              "      display:flex;\n",
              "      flex-wrap:wrap;\n",
              "      gap: 12px;\n",
              "    }\n",
              "\n",
              "    .colab-df-convert {\n",
              "      background-color: #E8F0FE;\n",
              "      border: none;\n",
              "      border-radius: 50%;\n",
              "      cursor: pointer;\n",
              "      display: none;\n",
              "      fill: #1967D2;\n",
              "      height: 32px;\n",
              "      padding: 0 0 0 0;\n",
              "      width: 32px;\n",
              "    }\n",
              "\n",
              "    .colab-df-convert:hover {\n",
              "      background-color: #E2EBFA;\n",
              "      box-shadow: 0px 1px 2px rgba(60, 64, 67, 0.3), 0px 1px 3px 1px rgba(60, 64, 67, 0.15);\n",
              "      fill: #174EA6;\n",
              "    }\n",
              "\n",
              "    [theme=dark] .colab-df-convert {\n",
              "      background-color: #3B4455;\n",
              "      fill: #D2E3FC;\n",
              "    }\n",
              "\n",
              "    [theme=dark] .colab-df-convert:hover {\n",
              "      background-color: #434B5C;\n",
              "      box-shadow: 0px 1px 3px 1px rgba(0, 0, 0, 0.15);\n",
              "      filter: drop-shadow(0px 1px 2px rgba(0, 0, 0, 0.3));\n",
              "      fill: #FFFFFF;\n",
              "    }\n",
              "  </style>\n",
              "\n",
              "      <script>\n",
              "        const buttonEl =\n",
              "          document.querySelector('#df-f42ac1cd-9191-4046-ba74-fa7a8970b0af button.colab-df-convert');\n",
              "        buttonEl.style.display =\n",
              "          google.colab.kernel.accessAllowed ? 'block' : 'none';\n",
              "\n",
              "        async function convertToInteractive(key) {\n",
              "          const element = document.querySelector('#df-f42ac1cd-9191-4046-ba74-fa7a8970b0af');\n",
              "          const dataTable =\n",
              "            await google.colab.kernel.invokeFunction('convertToInteractive',\n",
              "                                                     [key], {});\n",
              "          if (!dataTable) return;\n",
              "\n",
              "          const docLinkHtml = 'Like what you see? Visit the ' +\n",
              "            '<a target=\"_blank\" href=https://colab.research.google.com/notebooks/data_table.ipynb>data table notebook</a>'\n",
              "            + ' to learn more about interactive tables.';\n",
              "          element.innerHTML = '';\n",
              "          dataTable['output_type'] = 'display_data';\n",
              "          await google.colab.output.renderOutput(dataTable, element);\n",
              "          const docLink = document.createElement('div');\n",
              "          docLink.innerHTML = docLinkHtml;\n",
              "          element.appendChild(docLink);\n",
              "        }\n",
              "      </script>\n",
              "    </div>\n",
              "  </div>\n",
              "  "
            ]
          },
          "metadata": {},
          "execution_count": 4
        }
      ]
    },
    {
      "cell_type": "code",
      "source": [
        "from sklearn.model_selection import train_test_split\n",
        "\n",
        "X= one_hot_data.drop('cltv', axis=1)\n",
        "y= one_hot_data['cltv']\n",
        "\n",
        "X_train, X_test, y_train, y_test = train_test_split(X, y, test_size=0.3, random_state= 10)"
      ],
      "metadata": {
        "id": "w8snoLIRZOFV"
      },
      "execution_count": null,
      "outputs": []
    },
    {
      "cell_type": "code",
      "source": [
        "y_test"
      ],
      "metadata": {
        "colab": {
          "base_uri": "https://localhost:8080/"
        },
        "id": "ghDHoPlRSfYY",
        "outputId": "603da7c3-0c2b-4f3a-ca5c-9ddf8124962b"
      },
      "execution_count": null,
      "outputs": [
        {
          "output_type": "execute_result",
          "data": {
            "text/plain": [
              "58098     67272\n",
              "46023     30888\n",
              "52277     58056\n",
              "84181     30492\n",
              "75463    263364\n",
              "          ...  \n",
              "11733     66708\n",
              "83316     93024\n",
              "86312     32952\n",
              "24137     41616\n",
              "81393     69480\n",
              "Name: cltv, Length: 26818, dtype: int64"
            ]
          },
          "metadata": {},
          "execution_count": 30
        }
      ]
    },
    {
      "cell_type": "code",
      "source": [
        "#we can try standardization\n",
        "'''from sklearn.preprocessing import StandardScaler\n",
        "\n",
        "# Create an instance of the StandardScaler class\n",
        "scaler = StandardScaler()\n",
        "  \n",
        "# Fit the scaler to the training data\n",
        "scaler.fit(X_train)\n",
        "\n",
        "# Transform the training and testing data using the scaler\n",
        "X_train = scaler.transform(X_train)\n",
        "X_test = scaler.transform(X_test)'''"
      ],
      "metadata": {
        "id": "d1BhUxmbkAC8"
      },
      "execution_count": null,
      "outputs": []
    },
    {
      "cell_type": "markdown",
      "source": [
        "#Linear Regression"
      ],
      "metadata": {
        "id": "MWDb_sxIXS5h"
      }
    },
    {
      "cell_type": "code",
      "source": [
        "from sklearn.linear_model import LinearRegression\n",
        "model= LinearRegression()\n",
        "#now, fit model into train data\n",
        "model.fit(X_train, y_train)     #X_train= al input vars, y_train= output var. of training data(70% of total data)"
      ],
      "metadata": {
        "id": "En8zcJ0vUtYw",
        "colab": {
          "base_uri": "https://localhost:8080/"
        },
        "outputId": "4a2034c9-57bd-46c9-bad8-48865a407228"
      },
      "execution_count": 14,
      "outputs": [
        {
          "output_type": "execute_result",
          "data": {
            "text/plain": [
              "LinearRegression()"
            ]
          },
          "metadata": {},
          "execution_count": 14
        }
      ]
    },
    {
      "cell_type": "code",
      "source": [
        "#Checking model performance on train data\n",
        "from sklearn.metrics import r2_score\n",
        "y_pred= model.predict(X_train)\n",
        "r2 = r2_score(y_train, y_pred)\n",
        "print(r2)"
      ],
      "metadata": {
        "colab": {
          "base_uri": "https://localhost:8080/"
        },
        "id": "NZNNAruithMJ",
        "outputId": "5f75cf0d-de27-4a22-e97a-096f532dbf8f"
      },
      "execution_count": 10,
      "outputs": [
        {
          "output_type": "stream",
          "name": "stdout",
          "text": [
            "0.15313073207634098\n"
          ]
        }
      ]
    },
    {
      "cell_type": "code",
      "source": [
        "#use model to predict the output for testing data\n",
        "model.fit(X_train, y_train)\n",
        "y_pred= model.predict(X_test)     #X_test= input vars, y_test= output var of test data\n",
        "#u r using y_pred to predict y(outupt) values based on X_test "
      ],
      "metadata": {
        "id": "8gGhQAj9jolC"
      },
      "execution_count": 11,
      "outputs": []
    },
    {
      "cell_type": "code",
      "source": [
        "#performance on test data\n",
        "from sklearn.metrics import r2_score\n",
        "r2 = r2_score(y_test, y_pred)\n",
        "print(r2)"
      ],
      "metadata": {
        "id": "tNGDV8pTmlic",
        "colab": {
          "base_uri": "https://localhost:8080/"
        },
        "outputId": "5ae4a151-8650-4e61-b1e6-577454b188ee"
      },
      "execution_count": 12,
      "outputs": [
        {
          "output_type": "stream",
          "name": "stdout",
          "text": [
            "0.14980925407620427\n"
          ]
        }
      ]
    },
    {
      "cell_type": "markdown",
      "source": [
        "No overfitting, bcoz on both train(0.1531) and test(0.1498) data, performance is similar not much difference."
      ],
      "metadata": {
        "id": "QmhD3JlDPIVh"
      }
    },
    {
      "cell_type": "code",
      "source": [
        "from sklearn.metrics import mean_absolute_percentage_error\n",
        "print(mean_absolute_percentage_error(y_test, y_pred))"
      ],
      "metadata": {
        "colab": {
          "base_uri": "https://localhost:8080/"
        },
        "id": "_l0710pfmA94",
        "outputId": "78642aee-171b-43fb-bc42-25abb32f9563"
      },
      "execution_count": null,
      "outputs": [
        {
          "output_type": "stream",
          "name": "stdout",
          "text": [
            "0.567338341493577\n"
          ]
        }
      ]
    },
    {
      "cell_type": "code",
      "source": [
        "# Evaluate the model's performance using metrics such as mean squared error\n",
        "from sklearn.metrics import mean_squared_error\n",
        "print(mean_squared_error(y_test, y_pred))\n"
      ],
      "metadata": {
        "colab": {
          "base_uri": "https://localhost:8080/"
        },
        "id": "F9Jz2OG_lOtE",
        "outputId": "173f0c5f-fb05-4140-ed27-411688d9af70"
      },
      "execution_count": null,
      "outputs": [
        {
          "output_type": "stream",
          "name": "stdout",
          "text": [
            "6926605200.65499\n"
          ]
        }
      ]
    },
    {
      "cell_type": "markdown",
      "source": [
        "#Regularization with standardized data"
      ],
      "metadata": {
        "id": "zXr_8gxEXJeh"
      }
    },
    {
      "cell_type": "markdown",
      "source": [
        "Because of one hot encoding, it creates sparsity. To reduce, we can use regularization techniques or PCA technique."
      ],
      "metadata": {
        "id": "SC8wZr5sCz54"
      }
    },
    {
      "cell_type": "code",
      "source": [
        "from sklearn.linear_model import LinearRegression\n",
        "model= LinearRegression(fit_intercept=False, normalize=True)\n",
        "model.fit(X_train, y_train)\n",
        "y_pred= model.predict(X_test)"
      ],
      "metadata": {
        "colab": {
          "base_uri": "https://localhost:8080/"
        },
        "id": "IYiuMgmqB1YI",
        "outputId": "bfbd9d43-d893-40eb-affa-61768a79157e"
      },
      "execution_count": null,
      "outputs": [
        {
          "output_type": "stream",
          "name": "stderr",
          "text": [
            "/usr/local/lib/python3.8/dist-packages/sklearn/linear_model/_base.py:141: FutureWarning: 'normalize' was deprecated in version 1.0 and will be removed in 1.2.\n",
            "If you wish to scale the data, use Pipeline with a StandardScaler in a preprocessing stage. To reproduce the previous behavior:\n",
            "\n",
            "from sklearn.pipeline import make_pipeline\n",
            "\n",
            "model = make_pipeline(StandardScaler(with_mean=False), LinearRegression())\n",
            "\n",
            "If you wish to pass a sample_weight parameter, you need to pass it as a fit parameter to each step of the pipeline as follows:\n",
            "\n",
            "kwargs = {s[0] + '__sample_weight': sample_weight for s in model.steps}\n",
            "model.fit(X, y, **kwargs)\n",
            "\n",
            "\n",
            "  warnings.warn(\n"
          ]
        }
      ]
    },
    {
      "cell_type": "code",
      "source": [
        "from sklearn.metrics import r2_score\n",
        "r2 = r2_score(y_test, y_pred)\n",
        "print(r2)"
      ],
      "metadata": {
        "colab": {
          "base_uri": "https://localhost:8080/"
        },
        "id": "qhal5TJlCjEj",
        "outputId": "6c96bfa7-e6e4-4eb7-e722-10a127385bf4"
      },
      "execution_count": null,
      "outputs": [
        {
          "output_type": "stream",
          "name": "stdout",
          "text": [
            "0.09018394870249524\n"
          ]
        }
      ]
    },
    {
      "cell_type": "markdown",
      "source": [
        "R2 score gives -ve score when try standardization and regularization. So, dropping the stdz, regul. ideas."
      ],
      "metadata": {
        "id": "fPEXiqPYm8d8"
      }
    },
    {
      "cell_type": "markdown",
      "source": [
        "#SGD Regressor"
      ],
      "metadata": {
        "id": "y2Cbz8beW6zh"
      }
    },
    {
      "cell_type": "code",
      "source": [
        "\n",
        "from sklearn.linear_model import SGDRegressor\n",
        "sgd_reg = SGDRegressor(loss= 'squared_error', penalty=None, random_state= 42)\n",
        "sgd_reg.fit(X_train, y_train)\n",
        "\n",
        "# make predictions on the test data\n",
        "y_pred = sgd_reg.predict(X_test)\n",
        "\n",
        "r2 = r2_score(y_test, y_pred)\n",
        "print('R-squared: ', r2)\n",
        "\n",
        "from sklearn.metrics import mean_absolute_percentage_error\n",
        "print(mean_absolute_percentage_error(y_test, y_pred))"
      ],
      "metadata": {
        "colab": {
          "base_uri": "https://localhost:8080/"
        },
        "id": "yp7wQLN-g4mT",
        "outputId": "322f60ed-bdea-4636-ecb3-42d78bf7de3a"
      },
      "execution_count": null,
      "outputs": [
        {
          "output_type": "stream",
          "name": "stdout",
          "text": [
            "R-squared:  -1.0861430602236765e+24\n",
            "1285511186085.7598\n"
          ]
        }
      ]
    },
    {
      "cell_type": "markdown",
      "source": [
        "SGD regressor Not working well, infact worse result"
      ],
      "metadata": {
        "id": "YTS2TMzqnnDT"
      }
    },
    {
      "cell_type": "markdown",
      "source": [
        "#Random Forest & linear SVM"
      ],
      "metadata": {
        "id": "GU9MvDOGWyZP"
      }
    },
    {
      "cell_type": "code",
      "source": [
        "#Random forest\n",
        "from sklearn.ensemble import RandomForestRegressor\n",
        "\n",
        "# Create an instance of the RandomForestClassifier class\n",
        "rf = RandomForestRegressor(n_estimators=100, random_state= 0)\n",
        "\n",
        "# Fit the model to the training data\n",
        "rf.fit(X_train, y_train)\n",
        "\n",
        "# Use the model to predict the output for the testing data\n",
        "y_pred = rf.predict(X_test)"
      ],
      "metadata": {
        "id": "AGkgKdZCnkOO"
      },
      "execution_count": null,
      "outputs": []
    },
    {
      "cell_type": "code",
      "source": [
        "from sklearn.metrics import r2_score\n",
        "r2 = r2_score(y_test, y_pred)\n",
        "print(r2)"
      ],
      "metadata": {
        "colab": {
          "base_uri": "https://localhost:8080/"
        },
        "id": "IIs0QXyfpUq3",
        "outputId": "e04f5026-8482-4353-ce54-759b5484939d"
      },
      "execution_count": null,
      "outputs": [
        {
          "output_type": "stream",
          "name": "stdout",
          "text": [
            "0.09018394870249524\n"
          ]
        }
      ]
    },
    {
      "cell_type": "markdown",
      "source": [
        "RF Not performing well"
      ],
      "metadata": {
        "id": "WGBgCdS3pkbC"
      }
    },
    {
      "cell_type": "code",
      "source": [
        "#Linear SVM\n",
        "from sklearn.svm import LinearSVR\n",
        "svm_reg = LinearSVR(epsilon=0.1, C=1.0, max_iter=1000)\n",
        "\n",
        "# fit the model to the training data\n",
        "svm_reg.fit(X_train, y_train)\n",
        "\n",
        "# make predictions on the test data\n",
        "y_pred = svm_reg.predict(X_test)\n",
        "\n",
        "r2 = r2_score(y_test, y_pred)\n",
        "print(r2)\n",
        "from sklearn.metrics import mean_absolute_percentage_error\n",
        "print(mean_absolute_percentage_error(y_test, y_pred))"
      ],
      "metadata": {
        "colab": {
          "base_uri": "https://localhost:8080/"
        },
        "id": "WsfNMgD1oQ7r",
        "outputId": "27997e2d-3c32-44af-aaab-e69367ea0fe4"
      },
      "execution_count": null,
      "outputs": [
        {
          "output_type": "stream",
          "name": "stdout",
          "text": [
            "-0.07272974588845327\n",
            "0.5037305446775625\n"
          ]
        },
        {
          "output_type": "stream",
          "name": "stderr",
          "text": [
            "/usr/local/lib/python3.8/dist-packages/sklearn/svm/_base.py:1206: ConvergenceWarning: Liblinear failed to converge, increase the number of iterations.\n",
            "  warnings.warn(\n"
          ]
        }
      ]
    },
    {
      "cell_type": "markdown",
      "source": [
        "not workin well"
      ],
      "metadata": {
        "id": "h1KhLPNapTZH"
      }
    },
    {
      "cell_type": "markdown",
      "source": [
        "#Gradient boost"
      ],
      "metadata": {
        "id": "CkavMkVLWp0w"
      }
    },
    {
      "cell_type": "code",
      "source": [
        "#Gradient boosting regressor\n",
        "from sklearn.ensemble import GradientBoostingRegressor\n",
        "reg = GradientBoostingRegressor(n_estimators=100, learning_rate=0.1, max_depth=3, random_state=0)\n",
        "\n",
        "reg.fit(X_train, y_train)\n",
        "y_pred = reg.predict(X_test)"
      ],
      "metadata": {
        "id": "OyZAqIbirve2"
      },
      "execution_count": null,
      "outputs": []
    },
    {
      "cell_type": "code",
      "source": [
        "from sklearn.metrics import r2_score  \n",
        "r2 = r2_score(y_test, y_pred)\n",
        "print(r2)"
      ],
      "metadata": {
        "colab": {
          "base_uri": "https://localhost:8080/"
        },
        "id": "olrjBNcgsf1T",
        "outputId": "30f0d02c-f738-4b99-dc43-9a8c4736c1ab"
      },
      "execution_count": null,
      "outputs": [
        {
          "output_type": "stream",
          "name": "stdout",
          "text": [
            "0.15813827967536553\n"
          ]
        }
      ]
    },
    {
      "cell_type": "code",
      "source": [
        "test_score = reg.score(X_test, y_test)\n",
        "print(\"Test R-squared score:\", test_score)"
      ],
      "metadata": {
        "colab": {
          "base_uri": "https://localhost:8080/"
        },
        "id": "gIEvFL71sclN",
        "outputId": "1f6f655c-5617-44d2-c501-ed9a0c1cc26c"
      },
      "execution_count": null,
      "outputs": [
        {
          "output_type": "stream",
          "name": "stdout",
          "text": [
            "Test R-squared score: 0.15813827967536553\n"
          ]
        }
      ]
    },
    {
      "cell_type": "markdown",
      "source": [
        "Gradient boosting is performing best"
      ],
      "metadata": {
        "id": "zhU6TDRWIE3j"
      }
    }
  ]
}